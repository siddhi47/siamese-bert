{
 "cells": [
  {
   "cell_type": "code",
   "execution_count": 1,
   "id": "e80eb015",
   "metadata": {},
   "outputs": [],
   "source": [
    "import lightning as lt\n",
    "import torch\n",
    "import torch.nn as nn\n",
    "from transformers import BertModel,BertTokenizer\n",
    "from torch import optim\n",
    "from torch.utils.data import Dataset, DataLoader\n",
    "import random\n",
    "from pytorch_metric_learning import losses\n",
    "import torchmetrics"
   ]
  },
  {
   "cell_type": "markdown",
   "id": "debae111",
   "metadata": {},
   "source": [
    "## Downloading abstract"
   ]
  },
  {
   "cell_type": "code",
   "execution_count": null,
   "id": "0e79db3f",
   "metadata": {},
   "outputs": [],
   "source": [
    "import urllib"
   ]
  },
  {
   "cell_type": "code",
   "execution_count": null,
   "id": "e3d03189",
   "metadata": {},
   "outputs": [],
   "source": [
    "res = urllib.request.urlopen('https://ieeexplore.ieee.org/document/9551191')"
   ]
  },
  {
   "cell_type": "code",
   "execution_count": null,
   "id": "e2ac9b5d",
   "metadata": {},
   "outputs": [],
   "source": [
    "r = res.read()"
   ]
  },
  {
   "cell_type": "code",
   "execution_count": null,
   "id": "3d60b4e0",
   "metadata": {},
   "outputs": [],
   "source": [
    "import bs4\n",
    "soup = bs4.BeautifulSoup(r, \"html.parser\")"
   ]
  },
  {
   "cell_type": "code",
   "execution_count": null,
   "id": "e988b582",
   "metadata": {},
   "outputs": [],
   "source": [
    "soup.find_all(\"meta\" ,{\"property\":\"og:description\"})[0]['content']"
   ]
  },
  {
   "cell_type": "code",
   "execution_count": null,
   "id": "7f6a35be",
   "metadata": {},
   "outputs": [],
   "source": [
    "for i in range(100):\n",
    "    try:\n",
    "        start = 9551191\n",
    "        res = urllib.request.urlopen(f'https://ieeexplore.ieee.org/document/{start+i}')\n",
    "        r = res.read()\n",
    "        soup = bs4.BeautifulSoup(r, \"html.parser\")\n",
    "#         print(soup.find_all(\"meta\" ,{\"property\":\"og:description\"})[0]['content'])\n",
    "        with open(f'data/orginal/{i}.txt', 'w') as f:\n",
    "            f.write(soup.find_all(\"meta\" ,{\"property\":\"og:description\"})[0]['content'])\n",
    "            \n",
    "    except:\n",
    "        continue"
   ]
  },
  {
   "cell_type": "markdown",
   "id": "7e595e4b",
   "metadata": {},
   "source": [
    "## Dataset"
   ]
  },
  {
   "cell_type": "code",
   "execution_count": 2,
   "id": "a24231bf",
   "metadata": {},
   "outputs": [],
   "source": [
    "import glob\n",
    "import os\n",
    "class ParaDataset(Dataset):\n",
    "    def __init__(self, root_dir):\n",
    "        self.root_dir = root_dir\n",
    "        self.paraphrased_dir = os.path.join(root_dir,'paraphrased')\n",
    "        self.original_dir = os.path.join(root_dir,'orginal')\n",
    "        self.tokenizer = BertTokenizer.from_pretrained(\"bert-base-uncased\")\n",
    "        \n",
    "        self.original = set(\n",
    "            [\n",
    "                os.path.basename(x) for x in\n",
    "                glob.glob(os.path.join(self.original_dir, \"*.txt\"), recursive=True)\n",
    "            ]\n",
    "        \n",
    "        )\n",
    "        self.paraphrased = set(\n",
    "            [\n",
    "                os.path.basename(x) for x in\n",
    "                glob.glob(os.path.join(self.paraphrased_dir, \"*.txt\"), recursive=True)\n",
    "            ]\n",
    "        )\n",
    "        self.text_files = list(self.original.intersection(self.paraphrased)) \n",
    "\n",
    "    def __len__(self):\n",
    "        return len(self.text_files)\n",
    "    \n",
    "    \n",
    "    def __getitem__(self, idx):\n",
    "        \n",
    "        \n",
    "        get_same_pair = random.randint(0,1)\n",
    "        \n",
    "        if get_same_pair:\n",
    "            with open(os.path.join(self.original_dir, self.text_files[idx]), 'r') as f:\n",
    "                input1 = f.read()\n",
    "            with open(os.path.join(self.paraphrased_dir, self.text_files[idx]), 'r') as f:\n",
    "                input2 = f.read()\n",
    "        else:\n",
    "            with open(os.path.join(self.original_dir, self.text_files[idx]), 'r') as f:\n",
    "                input1 = f.read()\n",
    "            diff_text = random.choice(list(self.paraphrased-set(self.text_files[idx])))\n",
    "            \n",
    "            with open(os.path.join(self.paraphrased_dir, diff_text), 'r') as f:\n",
    "                input2 = f.read()\n",
    "        encoded_text_1 = self.tokenizer(\n",
    "                input1,\n",
    "                return_tensors=\"pt\",\n",
    "                padding=\"max_length\",\n",
    "                max_length=200,\n",
    "                add_special_tokens=True,\n",
    "                truncation=True,\n",
    "            )\n",
    "        \n",
    "        encoded_text_2 = self.tokenizer(\n",
    "                input2,\n",
    "                return_tensors=\"pt\",\n",
    "                padding=\"max_length\",\n",
    "                max_length=200,\n",
    "                add_special_tokens=True,\n",
    "                truncation=True,\n",
    "            )\n",
    "        \n",
    "        return encoded_text_1, encoded_text_2, get_same_pair\n",
    "            "
   ]
  },
  {
   "cell_type": "code",
   "execution_count": 3,
   "id": "6925a890",
   "metadata": {},
   "outputs": [],
   "source": [
    "dataset = ParaDataset('data')"
   ]
  },
  {
   "cell_type": "markdown",
   "id": "4f82e056",
   "metadata": {},
   "source": [
    "## Model architecture"
   ]
  },
  {
   "cell_type": "code",
   "execution_count": 12,
   "id": "e0ae9fc7",
   "metadata": {},
   "outputs": [],
   "source": [
    "class SiameseNetwork(lt.LightningModule):\n",
    "    def __init__(self, lr = 0.0001):\n",
    "        super(SiameseNetwork, self).__init__()\n",
    "        \n",
    "        self.lr = lr\n",
    "        \n",
    "        self.bert_model = BertModel.from_pretrained(\"bert-base-uncased\")\n",
    "\n",
    "        for param in self.bert_model.parameters():\n",
    "            param.requires_grad = False\n",
    "        \n",
    "        self.fc = nn.Sequential(\n",
    "            nn.Linear(768*2, 256),\n",
    "            nn.LayerNorm(256),\n",
    "            nn.LeakyReLU(),\n",
    "            nn.Linear(256, 1),\n",
    "            nn.Sigmoid(),\n",
    "        )\n",
    "        self.val_precision = \\\n",
    "        torchmetrics.classification.precision_recall.BinaryPrecision()\n",
    "        self.train_precision = \\\n",
    "        torchmetrics.classification.precision_recall.BinaryPrecision()\n",
    "        \n",
    "        self.val_recall = \\\n",
    "        torchmetrics.classification.precision_recall.BinaryPrecision()\n",
    "        self.train_recall = \\\n",
    "        torchmetrics.classification.precision_recall.BinaryPrecision()\n",
    "        \n",
    "        \n",
    "    def configure_optimizers(self):\n",
    "        return optim.Adadelta(self.parameters(), lr=self.lr)\n",
    "    \n",
    "    def forward_once(self,x):\n",
    "        input_bert = x[\"input_ids\"].view(x[\"input_ids\"].size(0), 200 )\n",
    "        atten_bert = x[\"attention_mask\"].view(x[\"attention_mask\"].size(0),200)\n",
    "        _, pool  = self.bert_model(\n",
    "            input_ids=input_bert, attention_mask=atten_bert, return_dict=False\n",
    "        )\n",
    "        return pool\n",
    "    \n",
    "    def forward(self, input1, input2):\n",
    "        output1 = self.forward_once(input1)\n",
    "        output2 = self.forward_once(input2)\n",
    "        \n",
    "        output = torch.cat([output1, output2], 1)\n",
    "        \n",
    "        output = self.fc(output)\n",
    "        \n",
    "        return output\n",
    "    \n",
    "    def training_step(self, train_batch, batch_idx):\n",
    "        input1, input2, y = train_batch\n",
    "        \n",
    "        out = self(input1, input2)\n",
    "        criterion = losses.ContrastiveLoss()\n",
    "        loss = criterion(out, y)\n",
    "        self.train_precision(out.reshape(-1).round(), y)\n",
    "        self.train_recall(out.reshape(-1).round(), y)\n",
    "        \n",
    "        self.log(\"Training Loss\", loss, on_epoch=True)\n",
    "        self.log(\"Training Precision\", self.train_precision, on_epoch=True)\n",
    "        self.log(\"Training Recall\", self.train_recall, on_epoch=True)\n",
    "        \n",
    "        return loss\n",
    "    \n",
    "    def validation_step(self, val_batch, batch_idx):\n",
    "        input1, input2, y = val_batch\n",
    "        \n",
    "        out = self(input1, input2)\n",
    "        criterion = losses.ContrastiveLoss()\n",
    "        loss = criterion(out, y)\n",
    "        self.val_precision(out.reshape(-1).round(), y)\n",
    "        self.val_recall(out.reshape(-1).round(), y)\n",
    "        \n",
    "        self.log(\"Validation Loss\", loss, on_epoch=True)\n",
    "        self.log(\"Validation Precision\", self.val_precision, on_epoch=True)\n",
    "        self.log(\"Validation Recall\", self.val_recall, on_epoch=True)"
   ]
  },
  {
   "cell_type": "code",
   "execution_count": 13,
   "id": "d7068b15",
   "metadata": {},
   "outputs": [
    {
     "name": "stderr",
     "output_type": "stream",
     "text": [
      "Some weights of the model checkpoint at bert-base-uncased were not used when initializing BertModel: ['cls.seq_relationship.bias', 'cls.predictions.transform.dense.bias', 'cls.seq_relationship.weight', 'cls.predictions.bias', 'cls.predictions.transform.dense.weight', 'cls.predictions.transform.LayerNorm.bias', 'cls.predictions.transform.LayerNorm.weight']\n",
      "- This IS expected if you are initializing BertModel from the checkpoint of a model trained on another task or with another architecture (e.g. initializing a BertForSequenceClassification model from a BertForPreTraining model).\n",
      "- This IS NOT expected if you are initializing BertModel from the checkpoint of a model that you expect to be exactly identical (initializing a BertForSequenceClassification model from a BertForSequenceClassification model).\n"
     ]
    }
   ],
   "source": [
    "net = SiameseNetwork()"
   ]
  },
  {
   "cell_type": "code",
   "execution_count": 14,
   "id": "b5e9c8f9",
   "metadata": {},
   "outputs": [],
   "source": [
    "train_set, val_set = torch.utils.data.random_split(\n",
    "        dataset,\n",
    "        [0.8, 0.2],\n",
    "    )"
   ]
  },
  {
   "cell_type": "code",
   "execution_count": 15,
   "id": "6c981e47",
   "metadata": {},
   "outputs": [],
   "source": [
    "BATCH_SIZE = 2\n",
    "MAX_EPOCH = 100"
   ]
  },
  {
   "cell_type": "code",
   "execution_count": 16,
   "id": "54aed603",
   "metadata": {},
   "outputs": [],
   "source": [
    "train_dataloader = DataLoader(\n",
    "        train_set,\n",
    "        batch_size=BATCH_SIZE,\n",
    "        num_workers=10,\n",
    "        drop_last=True,\n",
    "        shuffle=True,\n",
    "        #sampler=sampler,\n",
    "    )"
   ]
  },
  {
   "cell_type": "code",
   "execution_count": 17,
   "id": "32d11585",
   "metadata": {},
   "outputs": [],
   "source": [
    " test_dataloader = DataLoader(\n",
    "        val_set,\n",
    "        batch_size=BATCH_SIZE,\n",
    "        shuffle=True,\n",
    "        #sampler = test_sampler,\n",
    "        num_workers=10,\n",
    "        drop_last=True,\n",
    "    )"
   ]
  },
  {
   "cell_type": "code",
   "execution_count": 18,
   "id": "bffaffb9",
   "metadata": {},
   "outputs": [
    {
     "name": "stderr",
     "output_type": "stream",
     "text": [
      "GPU available: True (cuda), used: True\n",
      "TPU available: False, using: 0 TPU cores\n",
      "IPU available: False, using: 0 IPUs\n",
      "HPU available: False, using: 0 HPUs\n"
     ]
    }
   ],
   "source": [
    "trainer = lt.Trainer(\n",
    "        max_epochs=MAX_EPOCH,\n",
    "        #gradient_clip_val=1,\n",
    "#         logger=llogger,\n",
    "#         callbacks = [checkpoint_callback]\n",
    "    )"
   ]
  },
  {
   "cell_type": "code",
   "execution_count": null,
   "id": "03ff94a7",
   "metadata": {},
   "outputs": [
    {
     "name": "stderr",
     "output_type": "stream",
     "text": [
      "You are using a CUDA device ('NVIDIA A100 80GB PCIe') that has Tensor Cores. To properly utilize them, you should set `torch.set_float32_matmul_precision('medium' | 'high')` which will trade-off precision for performance. For more details, read https://pytorch.org/docs/stable/generated/torch.set_float32_matmul_precision.html#torch.set_float32_matmul_precision\n",
      "LOCAL_RANK: 0 - CUDA_VISIBLE_DEVICES: [0]\n",
      "\n",
      "  | Name            | Type            | Params\n",
      "----------------------------------------------------\n",
      "0 | bert_model      | BertModel       | 109 M \n",
      "1 | fc              | Sequential      | 394 K \n",
      "2 | val_precision   | BinaryPrecision | 0     \n",
      "3 | train_precision | BinaryPrecision | 0     \n",
      "4 | val_recall      | BinaryPrecision | 0     \n",
      "5 | train_recall    | BinaryPrecision | 0     \n",
      "----------------------------------------------------\n",
      "394 K     Trainable params\n",
      "109 M     Non-trainable params\n",
      "109 M     Total params\n",
      "439.506   Total estimated model params size (MB)\n"
     ]
    },
    {
     "data": {
      "application/vnd.jupyter.widget-view+json": {
       "model_id": "",
       "version_major": 2,
       "version_minor": 0
      },
      "text/plain": [
       "Sanity Checking: 0it [00:00, ?it/s]"
      ]
     },
     "metadata": {},
     "output_type": "display_data"
    },
    {
     "name": "stderr",
     "output_type": "stream",
     "text": [
      "/home/usd.local/siddhi.bajracharya/anaconda3/envs/jupyter/lib/python3.11/site-packages/lightning/pytorch/loops/fit_loop.py:280: PossibleUserWarning: The number of training batches (33) is smaller than the logging interval Trainer(log_every_n_steps=50). Set a lower value for log_every_n_steps if you want to see logs for the training epoch.\n",
      "  rank_zero_warn(\n"
     ]
    },
    {
     "data": {
      "application/vnd.jupyter.widget-view+json": {
       "model_id": "7d8aae5f94c84753a02d6f78f0351c61",
       "version_major": 2,
       "version_minor": 0
      },
      "text/plain": [
       "Training: 0it [00:00, ?it/s]"
      ]
     },
     "metadata": {},
     "output_type": "display_data"
    },
    {
     "data": {
      "application/vnd.jupyter.widget-view+json": {
       "model_id": "",
       "version_major": 2,
       "version_minor": 0
      },
      "text/plain": [
       "Validation: 0it [00:00, ?it/s]"
      ]
     },
     "metadata": {},
     "output_type": "display_data"
    },
    {
     "data": {
      "application/vnd.jupyter.widget-view+json": {
       "model_id": "",
       "version_major": 2,
       "version_minor": 0
      },
      "text/plain": [
       "Validation: 0it [00:00, ?it/s]"
      ]
     },
     "metadata": {},
     "output_type": "display_data"
    },
    {
     "data": {
      "application/vnd.jupyter.widget-view+json": {
       "model_id": "",
       "version_major": 2,
       "version_minor": 0
      },
      "text/plain": [
       "Validation: 0it [00:00, ?it/s]"
      ]
     },
     "metadata": {},
     "output_type": "display_data"
    },
    {
     "data": {
      "application/vnd.jupyter.widget-view+json": {
       "model_id": "",
       "version_major": 2,
       "version_minor": 0
      },
      "text/plain": [
       "Validation: 0it [00:00, ?it/s]"
      ]
     },
     "metadata": {},
     "output_type": "display_data"
    },
    {
     "data": {
      "application/vnd.jupyter.widget-view+json": {
       "model_id": "",
       "version_major": 2,
       "version_minor": 0
      },
      "text/plain": [
       "Validation: 0it [00:00, ?it/s]"
      ]
     },
     "metadata": {},
     "output_type": "display_data"
    },
    {
     "data": {
      "application/vnd.jupyter.widget-view+json": {
       "model_id": "",
       "version_major": 2,
       "version_minor": 0
      },
      "text/plain": [
       "Validation: 0it [00:00, ?it/s]"
      ]
     },
     "metadata": {},
     "output_type": "display_data"
    },
    {
     "data": {
      "application/vnd.jupyter.widget-view+json": {
       "model_id": "",
       "version_major": 2,
       "version_minor": 0
      },
      "text/plain": [
       "Validation: 0it [00:00, ?it/s]"
      ]
     },
     "metadata": {},
     "output_type": "display_data"
    },
    {
     "data": {
      "application/vnd.jupyter.widget-view+json": {
       "model_id": "",
       "version_major": 2,
       "version_minor": 0
      },
      "text/plain": [
       "Validation: 0it [00:00, ?it/s]"
      ]
     },
     "metadata": {},
     "output_type": "display_data"
    },
    {
     "data": {
      "application/vnd.jupyter.widget-view+json": {
       "model_id": "",
       "version_major": 2,
       "version_minor": 0
      },
      "text/plain": [
       "Validation: 0it [00:00, ?it/s]"
      ]
     },
     "metadata": {},
     "output_type": "display_data"
    },
    {
     "data": {
      "application/vnd.jupyter.widget-view+json": {
       "model_id": "",
       "version_major": 2,
       "version_minor": 0
      },
      "text/plain": [
       "Validation: 0it [00:00, ?it/s]"
      ]
     },
     "metadata": {},
     "output_type": "display_data"
    },
    {
     "data": {
      "application/vnd.jupyter.widget-view+json": {
       "model_id": "",
       "version_major": 2,
       "version_minor": 0
      },
      "text/plain": [
       "Validation: 0it [00:00, ?it/s]"
      ]
     },
     "metadata": {},
     "output_type": "display_data"
    },
    {
     "data": {
      "application/vnd.jupyter.widget-view+json": {
       "model_id": "",
       "version_major": 2,
       "version_minor": 0
      },
      "text/plain": [
       "Validation: 0it [00:00, ?it/s]"
      ]
     },
     "metadata": {},
     "output_type": "display_data"
    },
    {
     "data": {
      "application/vnd.jupyter.widget-view+json": {
       "model_id": "",
       "version_major": 2,
       "version_minor": 0
      },
      "text/plain": [
       "Validation: 0it [00:00, ?it/s]"
      ]
     },
     "metadata": {},
     "output_type": "display_data"
    },
    {
     "data": {
      "application/vnd.jupyter.widget-view+json": {
       "model_id": "",
       "version_major": 2,
       "version_minor": 0
      },
      "text/plain": [
       "Validation: 0it [00:00, ?it/s]"
      ]
     },
     "metadata": {},
     "output_type": "display_data"
    },
    {
     "data": {
      "application/vnd.jupyter.widget-view+json": {
       "model_id": "",
       "version_major": 2,
       "version_minor": 0
      },
      "text/plain": [
       "Validation: 0it [00:00, ?it/s]"
      ]
     },
     "metadata": {},
     "output_type": "display_data"
    },
    {
     "data": {
      "application/vnd.jupyter.widget-view+json": {
       "model_id": "",
       "version_major": 2,
       "version_minor": 0
      },
      "text/plain": [
       "Validation: 0it [00:00, ?it/s]"
      ]
     },
     "metadata": {},
     "output_type": "display_data"
    },
    {
     "data": {
      "application/vnd.jupyter.widget-view+json": {
       "model_id": "",
       "version_major": 2,
       "version_minor": 0
      },
      "text/plain": [
       "Validation: 0it [00:00, ?it/s]"
      ]
     },
     "metadata": {},
     "output_type": "display_data"
    },
    {
     "data": {
      "application/vnd.jupyter.widget-view+json": {
       "model_id": "",
       "version_major": 2,
       "version_minor": 0
      },
      "text/plain": [
       "Validation: 0it [00:00, ?it/s]"
      ]
     },
     "metadata": {},
     "output_type": "display_data"
    },
    {
     "data": {
      "application/vnd.jupyter.widget-view+json": {
       "model_id": "",
       "version_major": 2,
       "version_minor": 0
      },
      "text/plain": [
       "Validation: 0it [00:00, ?it/s]"
      ]
     },
     "metadata": {},
     "output_type": "display_data"
    },
    {
     "data": {
      "application/vnd.jupyter.widget-view+json": {
       "model_id": "",
       "version_major": 2,
       "version_minor": 0
      },
      "text/plain": [
       "Validation: 0it [00:00, ?it/s]"
      ]
     },
     "metadata": {},
     "output_type": "display_data"
    },
    {
     "data": {
      "application/vnd.jupyter.widget-view+json": {
       "model_id": "",
       "version_major": 2,
       "version_minor": 0
      },
      "text/plain": [
       "Validation: 0it [00:00, ?it/s]"
      ]
     },
     "metadata": {},
     "output_type": "display_data"
    },
    {
     "data": {
      "application/vnd.jupyter.widget-view+json": {
       "model_id": "",
       "version_major": 2,
       "version_minor": 0
      },
      "text/plain": [
       "Validation: 0it [00:00, ?it/s]"
      ]
     },
     "metadata": {},
     "output_type": "display_data"
    },
    {
     "data": {
      "application/vnd.jupyter.widget-view+json": {
       "model_id": "",
       "version_major": 2,
       "version_minor": 0
      },
      "text/plain": [
       "Validation: 0it [00:00, ?it/s]"
      ]
     },
     "metadata": {},
     "output_type": "display_data"
    },
    {
     "data": {
      "application/vnd.jupyter.widget-view+json": {
       "model_id": "",
       "version_major": 2,
       "version_minor": 0
      },
      "text/plain": [
       "Validation: 0it [00:00, ?it/s]"
      ]
     },
     "metadata": {},
     "output_type": "display_data"
    },
    {
     "data": {
      "application/vnd.jupyter.widget-view+json": {
       "model_id": "",
       "version_major": 2,
       "version_minor": 0
      },
      "text/plain": [
       "Validation: 0it [00:00, ?it/s]"
      ]
     },
     "metadata": {},
     "output_type": "display_data"
    }
   ],
   "source": [
    "trainer.fit(\n",
    "        net,\n",
    "        train_dataloader,\n",
    "        test_dataloader,\n",
    "    )"
   ]
  },
  {
   "cell_type": "code",
   "execution_count": null,
   "id": "ab64b066",
   "metadata": {},
   "outputs": [],
   "source": [
    "len(val_set)"
   ]
  },
  {
   "cell_type": "code",
   "execution_count": null,
   "id": "265103a0",
   "metadata": {},
   "outputs": [],
   "source": []
  }
 ],
 "metadata": {
  "kernelspec": {
   "display_name": "Python 3 (ipykernel)",
   "language": "python",
   "name": "python3"
  },
  "language_info": {
   "codemirror_mode": {
    "name": "ipython",
    "version": 3
   },
   "file_extension": ".py",
   "mimetype": "text/x-python",
   "name": "python",
   "nbconvert_exporter": "python",
   "pygments_lexer": "ipython3",
   "version": "3.11.0"
  }
 },
 "nbformat": 4,
 "nbformat_minor": 5
}
